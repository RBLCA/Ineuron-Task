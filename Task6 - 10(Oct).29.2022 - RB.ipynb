{
 "cells": [
  {
   "cell_type": "markdown",
   "id": "849ce11c",
   "metadata": {},
   "source": [
    "# 1. write a function which will try to find out len of a string without using an inbuilt len function "
   ]
  },
  {
   "cell_type": "code",
   "execution_count": 1,
   "id": "54b1b049",
   "metadata": {},
   "outputs": [
    {
     "name": "stdout",
     "output_type": "stream",
     "text": [
      "Enter a string: ineuron\n"
     ]
    },
    {
     "data": {
      "text/plain": [
       "7"
      ]
     },
     "execution_count": 1,
     "metadata": {},
     "output_type": "execute_result"
    }
   ],
   "source": [
    "def length(a):\n",
    "    \"\"\"This return length of the string and only string\"\"\"\n",
    "    count = 0\n",
    "    for check in a:\n",
    "            count += 1\n",
    "    return count\n",
    "    \n",
    "\n",
    "a = input('Enter a string: ')\n",
    "length(a)"
   ]
  },
  {
   "cell_type": "markdown",
   "id": "70ca25f8",
   "metadata": {},
   "source": [
    "# 2. write a function which  will be able to print an index of list element without using an index function"
   ]
  },
  {
   "cell_type": "code",
   "execution_count": 2,
   "id": "2c0890aa",
   "metadata": {},
   "outputs": [],
   "source": [
    "def index(l, a):\n",
    "    \"This function return index of element of a list\"\n",
    "    if type(l) == list:\n",
    "        for i in range(len(l)):\n",
    "            if a == l[i]:\n",
    "                print(f'index of {a} is {i}')\n",
    "                break\n",
    "        else:\n",
    "            print('elment not in the list')\n",
    "    else:\n",
    "        print('please enter a list')\n",
    "        "
   ]
  },
  {
   "cell_type": "code",
   "execution_count": 3,
   "id": "5fc30cab",
   "metadata": {},
   "outputs": [],
   "source": [
    "l = [1,2,3,4,5,6,7,3]"
   ]
  },
  {
   "cell_type": "code",
   "execution_count": 4,
   "id": "76d2dc65",
   "metadata": {},
   "outputs": [
    {
     "name": "stdout",
     "output_type": "stream",
     "text": [
      "index of 2 is 1\n"
     ]
    }
   ],
   "source": [
    "index(l, 2)"
   ]
  },
  {
   "cell_type": "code",
   "execution_count": 5,
   "id": "1d17c264",
   "metadata": {},
   "outputs": [],
   "source": [
    "import socket\n",
    "def ipsystem():\n",
    "    \"\"\"This function is used to print IP address of your system.\"\"\"\n",
    "    hostname = socket.gethostname()\n",
    "    IPadd = socket.gethostbyname(hostname)\n",
    "    print(f'Your computer name is: {hostname}')\n",
    "    print(f'Your system IP address is: {IPadd}')"
   ]
  },
  {
   "cell_type": "code",
   "execution_count": 6,
   "id": "c4a74b58",
   "metadata": {},
   "outputs": [
    {
     "name": "stdout",
     "output_type": "stream",
     "text": [
      "Your computer name is: DESKTOP-0CN9U1G\n",
      "Your system IP address is: 192.168.0.100\n"
     ]
    }
   ],
   "source": [
    "ipsystem()"
   ]
  },
  {
   "cell_type": "markdown",
   "id": "297f5fdf",
   "metadata": {},
   "source": [
    "# 4. write a function which will shutdown your system."
   ]
  },
  {
   "cell_type": "code",
   "execution_count": 7,
   "id": "34025ca2",
   "metadata": {},
   "outputs": [],
   "source": [
    "import os\n",
    "def systemshut():\n",
    "    \"\"\"This function is used to shutdown your system\"\"\"\n",
    "    shutdown = input('Want to shutdown your system? (Yes/No):')\n",
    "    \n",
    "    if shutdown == 'No':\n",
    "        exit()\n",
    "    else:\n",
    "        os.system('shutdown /s /t 1')    "
   ]
  },
  {
   "cell_type": "code",
   "execution_count": 8,
   "id": "17effabd",
   "metadata": {},
   "outputs": [
    {
     "name": "stdout",
     "output_type": "stream",
     "text": [
      "Want to shutdown your system? (Yes/No):No\n"
     ]
    }
   ],
   "source": [
    "systemshut()"
   ]
  },
  {
   "cell_type": "markdown",
   "id": "706acf62",
   "metadata": {},
   "source": [
    "# 5. write a function which will take input as a list with any kind of numeric value and give an out as a multiplication of all the numeric data l = [3.5, 6.56, 4,5,\"sudh\" , \"ineuron\" , 'fsda bootcamp 2.0']"
   ]
  },
  {
   "cell_type": "code",
   "execution_count": 1,
   "id": "9e42c077",
   "metadata": {},
   "outputs": [],
   "source": [
    "l = [3.5, 6.56, 4,5,\"sudh\" , \"ineuron\" , 'fsda bootcamp 2.0']"
   ]
  },
  {
   "cell_type": "code",
   "execution_count": 2,
   "id": "18de32e6",
   "metadata": {},
   "outputs": [],
   "source": [
    "def product(l):\n",
    "    \"\"\"This return mulitiplication of numeric data available in list\"\"\"\n",
    "    multi = 1\n",
    "    for i in l:\n",
    "        if type(i) == int or type(i) == float :\n",
    "            multi = multi * i\n",
    "    return multi       "
   ]
  },
  {
   "cell_type": "code",
   "execution_count": 3,
   "id": "751302ba",
   "metadata": {},
   "outputs": [
    {
     "data": {
      "text/plain": [
       "459.19999999999993"
      ]
     },
     "execution_count": 3,
     "metadata": {},
     "output_type": "execute_result"
    }
   ],
   "source": [
    "product(l)"
   ]
  },
  {
   "cell_type": "markdown",
   "id": "32aec7a0",
   "metadata": {},
   "source": [
    "# 6. write a function which will be able to read all the mails."
   ]
  },
  {
   "cell_type": "code",
   "execution_count": null,
   "id": "3aea8a60",
   "metadata": {},
   "outputs": [],
   "source": []
  },
  {
   "cell_type": "markdown",
   "id": "d9b4dcf4",
   "metadata": {},
   "source": [
    "# 7 . write a function which will be able to send a mail to anyone."
   ]
  },
  {
   "cell_type": "code",
   "execution_count": 4,
   "id": "f2707120",
   "metadata": {},
   "outputs": [],
   "source": [
    "import smtplib\n",
    "def sendmail():\n",
    "    \"\"\"This function is used to send a mail\"\"\"\n",
    "    s = smtplib.SMTP('smtp.gmail.com',587)\n",
    "    s.starttls()\n",
    "    s.login('iafmigrohit4@gmail.com','password')\n",
    "    message = 'Hi, This is my code to send a mail through a python'\n",
    "    s.sendmail('iafmigrohit4@gmail.com','rupawasekar981@gmail.com')\n",
    "    s.quit()  "
   ]
  },
  {
   "cell_type": "code",
   "execution_count": null,
   "id": "6e4f9586",
   "metadata": {},
   "outputs": [],
   "source": [
    "sendmail()"
   ]
  },
  {
   "cell_type": "markdown",
   "id": "da90f322",
   "metadata": {},
   "source": [
    "# 8. write a function which will be able to read a doc/word file from your system."
   ]
  },
  {
   "cell_type": "code",
   "execution_count": 5,
   "id": "3f4fad6a",
   "metadata": {},
   "outputs": [],
   "source": [
    "def read_word_file():\n",
    "    \"\"\"This function is used to read a word file\"\"\"\n",
    "    with open('Rohit.docx','r') as file:\n",
    "        for line in file:\n",
    "            for word in line.split():\n",
    "                print(word)"
   ]
  },
  {
   "cell_type": "code",
   "execution_count": 6,
   "id": "c9718484",
   "metadata": {},
   "outputs": [
    {
     "ename": "UnicodeDecodeError",
     "evalue": "'charmap' codec can't decode byte 0x90 in position 660: character maps to <undefined>",
     "output_type": "error",
     "traceback": [
      "\u001b[1;31m---------------------------------------------------------------------------\u001b[0m",
      "\u001b[1;31mUnicodeDecodeError\u001b[0m                        Traceback (most recent call last)",
      "\u001b[1;32m~\\AppData\\Local\\Temp/ipykernel_9576/2348262410.py\u001b[0m in \u001b[0;36m<module>\u001b[1;34m\u001b[0m\n\u001b[1;32m----> 1\u001b[1;33m \u001b[0mread_word_file\u001b[0m\u001b[1;33m(\u001b[0m\u001b[1;33m)\u001b[0m\u001b[1;33m\u001b[0m\u001b[1;33m\u001b[0m\u001b[0m\n\u001b[0m",
      "\u001b[1;32m~\\AppData\\Local\\Temp/ipykernel_9576/3297403954.py\u001b[0m in \u001b[0;36mread_word_file\u001b[1;34m()\u001b[0m\n\u001b[0;32m      2\u001b[0m     \u001b[1;34m\"\"\"This function is used to read a word file\"\"\"\u001b[0m\u001b[1;33m\u001b[0m\u001b[1;33m\u001b[0m\u001b[0m\n\u001b[0;32m      3\u001b[0m     \u001b[1;32mwith\u001b[0m \u001b[0mopen\u001b[0m\u001b[1;33m(\u001b[0m\u001b[1;34m'Rohit.docx'\u001b[0m\u001b[1;33m,\u001b[0m\u001b[1;34m'r'\u001b[0m\u001b[1;33m)\u001b[0m \u001b[1;32mas\u001b[0m \u001b[0mfile\u001b[0m\u001b[1;33m:\u001b[0m\u001b[1;33m\u001b[0m\u001b[1;33m\u001b[0m\u001b[0m\n\u001b[1;32m----> 4\u001b[1;33m         \u001b[1;32mfor\u001b[0m \u001b[0mline\u001b[0m \u001b[1;32min\u001b[0m \u001b[0mfile\u001b[0m\u001b[1;33m:\u001b[0m\u001b[1;33m\u001b[0m\u001b[1;33m\u001b[0m\u001b[0m\n\u001b[0m\u001b[0;32m      5\u001b[0m             \u001b[1;32mfor\u001b[0m \u001b[0mword\u001b[0m \u001b[1;32min\u001b[0m \u001b[0mline\u001b[0m\u001b[1;33m.\u001b[0m\u001b[0msplit\u001b[0m\u001b[1;33m(\u001b[0m\u001b[1;33m)\u001b[0m\u001b[1;33m:\u001b[0m\u001b[1;33m\u001b[0m\u001b[1;33m\u001b[0m\u001b[0m\n\u001b[0;32m      6\u001b[0m                 \u001b[0mprint\u001b[0m\u001b[1;33m(\u001b[0m\u001b[0mword\u001b[0m\u001b[1;33m)\u001b[0m\u001b[1;33m\u001b[0m\u001b[1;33m\u001b[0m\u001b[0m\n",
      "\u001b[1;32m~\\anaconda3\\lib\\encodings\\cp1252.py\u001b[0m in \u001b[0;36mdecode\u001b[1;34m(self, input, final)\u001b[0m\n\u001b[0;32m     21\u001b[0m \u001b[1;32mclass\u001b[0m \u001b[0mIncrementalDecoder\u001b[0m\u001b[1;33m(\u001b[0m\u001b[0mcodecs\u001b[0m\u001b[1;33m.\u001b[0m\u001b[0mIncrementalDecoder\u001b[0m\u001b[1;33m)\u001b[0m\u001b[1;33m:\u001b[0m\u001b[1;33m\u001b[0m\u001b[1;33m\u001b[0m\u001b[0m\n\u001b[0;32m     22\u001b[0m     \u001b[1;32mdef\u001b[0m \u001b[0mdecode\u001b[0m\u001b[1;33m(\u001b[0m\u001b[0mself\u001b[0m\u001b[1;33m,\u001b[0m \u001b[0minput\u001b[0m\u001b[1;33m,\u001b[0m \u001b[0mfinal\u001b[0m\u001b[1;33m=\u001b[0m\u001b[1;32mFalse\u001b[0m\u001b[1;33m)\u001b[0m\u001b[1;33m:\u001b[0m\u001b[1;33m\u001b[0m\u001b[1;33m\u001b[0m\u001b[0m\n\u001b[1;32m---> 23\u001b[1;33m         \u001b[1;32mreturn\u001b[0m \u001b[0mcodecs\u001b[0m\u001b[1;33m.\u001b[0m\u001b[0mcharmap_decode\u001b[0m\u001b[1;33m(\u001b[0m\u001b[0minput\u001b[0m\u001b[1;33m,\u001b[0m\u001b[0mself\u001b[0m\u001b[1;33m.\u001b[0m\u001b[0merrors\u001b[0m\u001b[1;33m,\u001b[0m\u001b[0mdecoding_table\u001b[0m\u001b[1;33m)\u001b[0m\u001b[1;33m[\u001b[0m\u001b[1;36m0\u001b[0m\u001b[1;33m]\u001b[0m\u001b[1;33m\u001b[0m\u001b[1;33m\u001b[0m\u001b[0m\n\u001b[0m\u001b[0;32m     24\u001b[0m \u001b[1;33m\u001b[0m\u001b[0m\n\u001b[0;32m     25\u001b[0m \u001b[1;32mclass\u001b[0m \u001b[0mStreamWriter\u001b[0m\u001b[1;33m(\u001b[0m\u001b[0mCodec\u001b[0m\u001b[1;33m,\u001b[0m\u001b[0mcodecs\u001b[0m\u001b[1;33m.\u001b[0m\u001b[0mStreamWriter\u001b[0m\u001b[1;33m)\u001b[0m\u001b[1;33m:\u001b[0m\u001b[1;33m\u001b[0m\u001b[1;33m\u001b[0m\u001b[0m\n",
      "\u001b[1;31mUnicodeDecodeError\u001b[0m: 'charmap' codec can't decode byte 0x90 in position 660: character maps to <undefined>"
     ]
    }
   ],
   "source": [
    "read_word_file()"
   ]
  }
 ],
 "metadata": {
  "kernelspec": {
   "display_name": "Python 3 (ipykernel)",
   "language": "python",
   "name": "python3"
  },
  "language_info": {
   "codemirror_mode": {
    "name": "ipython",
    "version": 3
   },
   "file_extension": ".py",
   "mimetype": "text/x-python",
   "name": "python",
   "nbconvert_exporter": "python",
   "pygments_lexer": "ipython3",
   "version": "3.9.7"
  }
 },
 "nbformat": 4,
 "nbformat_minor": 5
}
