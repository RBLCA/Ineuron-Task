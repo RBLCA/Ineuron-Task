{
 "cells": [
  {
   "cell_type": "markdown",
   "id": "f70bc85b",
   "metadata": {},
   "source": [
    "# 1 . you have to write a fun which will take string and return a len of it without using a inbuilt fun len"
   ]
  },
  {
   "cell_type": "code",
   "execution_count": 22,
   "id": "6d7523c7",
   "metadata": {},
   "outputs": [],
   "source": [
    "def lnt(a):\n",
    "    \"\"\"In return it give's length of a string \"\"\"\n",
    "    count = 0\n",
    "    if type(a) == str:\n",
    "        for i in a:\n",
    "            count += 1\n",
    "    return count"
   ]
  },
  {
   "cell_type": "code",
   "execution_count": 23,
   "id": "68ae6bbf",
   "metadata": {},
   "outputs": [
    {
     "data": {
      "text/plain": [
       "13"
      ]
     },
     "execution_count": 23,
     "metadata": {},
     "output_type": "execute_result"
    }
   ],
   "source": [
    "lnt('sudhanshu sir')"
   ]
  },
  {
   "cell_type": "markdown",
   "id": "2449a708",
   "metadata": {},
   "source": [
    "# 2 . write a fun which will be able to print an index of all premitive element which you will pass "
   ]
  },
  {
   "cell_type": "code",
   "execution_count": 24,
   "id": "d187d8c4",
   "metadata": {},
   "outputs": [],
   "source": [
    "def indx(a):\n",
    "    \"\"\"index of all premitive element which you will pass\n",
    "       for dictionary is Null\n",
    "       \"\"\"\n",
    "    if type(a) == str or type(a) == list or type(a) == tuple or type(a) == set:\n",
    "        for i in range(len(a)):\n",
    "            print(i, 'is the index of', a[i])\n",
    "    else:\n",
    "        return 'plz enter corrct value, like string, list, tuple, dict, set'\n",
    "        "
   ]
  },
  {
   "cell_type": "code",
   "execution_count": 25,
   "id": "0e53bba9",
   "metadata": {},
   "outputs": [
    {
     "name": "stdout",
     "output_type": "stream",
     "text": [
      "0 is the index of 1\n",
      "1 is the index of 2\n",
      "2 is the index of 4\n",
      "3 is the index of rohit\n",
      "4 is the index of sudhanshu_sir\n",
      "5 is the index of ineuron\n",
      "6 is the index of 55.5\n",
      "7 is the index of (5+5j)\n"
     ]
    }
   ],
   "source": [
    "indx([1,2,4,'rohit','sudhanshu_sir','ineuron',55.5,5+5j,])"
   ]
  },
  {
   "cell_type": "markdown",
   "id": "70ecc84b",
   "metadata": {},
   "source": [
    "# 3 . Write a fun which will take input as a dict and give me out as a list of all the values even in case of 2 level nesting it should work . "
   ]
  },
  {
   "cell_type": "code",
   "execution_count": 26,
   "id": "eb9a218d",
   "metadata": {},
   "outputs": [],
   "source": [
    "d = {1:'rohit', 2:'sudhanshu_sir', 3:11, 4:{'a':'ineuron','b':'krish_sir','c':'oneuron'}}"
   ]
  },
  {
   "cell_type": "code",
   "execution_count": 28,
   "id": "f6efc3b4",
   "metadata": {},
   "outputs": [],
   "source": [
    "def getval(d):\n",
    "    \"\"\"applicable only on dictionary,\n",
    "       In return it gives you list of all the value's of key of dictionary if it is 2 level of nesting.\"\"\"\n",
    "    l = []\n",
    "    if type(d) == dict:\n",
    "        for i in d:\n",
    "            if type(d[i]) == dict:\n",
    "                pass\n",
    "            else:\n",
    "                l.append(d[i])\n",
    "        for j in d.values():\n",
    "            if type(j) == dict:\n",
    "                for k in j:\n",
    "                    l.append(j[k])\n",
    "    return l"
   ]
  },
  {
   "cell_type": "code",
   "execution_count": 29,
   "id": "e2adcef9",
   "metadata": {},
   "outputs": [
    {
     "data": {
      "text/plain": [
       "['rohit', 'sudhanshu_sir', 11, 'ineuron', 'krish_sir', 'oneuron']"
      ]
     },
     "execution_count": 29,
     "metadata": {},
     "output_type": "execute_result"
    }
   ],
   "source": [
    "getval(d)"
   ]
  },
  {
   "cell_type": "markdown",
   "id": "8635f34c",
   "metadata": {},
   "source": [
    "# 4 . write a fun which will take another function as an input and return me an output."
   ]
  },
  {
   "cell_type": "code",
   "execution_count": 30,
   "id": "55a90d9c",
   "metadata": {},
   "outputs": [],
   "source": [
    "def test():\n",
    "    return 'this is just a plain function'"
   ]
  },
  {
   "cell_type": "code",
   "execution_count": 31,
   "id": "7f783645",
   "metadata": {},
   "outputs": [],
   "source": [
    "def test1(a):\n",
    "    \"\"\"this function is taking another function as an input and gives output\"\"\"\n",
    "    return 'taking another function'"
   ]
  },
  {
   "cell_type": "code",
   "execution_count": 32,
   "id": "bb075e45",
   "metadata": {},
   "outputs": [],
   "source": [
    "a = test()"
   ]
  },
  {
   "cell_type": "code",
   "execution_count": 33,
   "id": "3aa1359e",
   "metadata": {},
   "outputs": [
    {
     "data": {
      "text/plain": [
       "'this is just a plain function'"
      ]
     },
     "execution_count": 33,
     "metadata": {},
     "output_type": "execute_result"
    }
   ],
   "source": [
    "a"
   ]
  },
  {
   "cell_type": "code",
   "execution_count": 34,
   "id": "de3d0543",
   "metadata": {},
   "outputs": [
    {
     "data": {
      "text/plain": [
       "'taking another function'"
      ]
     },
     "execution_count": 34,
     "metadata": {},
     "output_type": "execute_result"
    }
   ],
   "source": [
    "test1(a)"
   ]
  },
  {
   "cell_type": "markdown",
   "id": "3c9bcfd1",
   "metadata": {},
   "source": [
    "# 5. write a function whihc will take multiple list as a input and give me concatnation of all the element as and output"
   ]
  },
  {
   "cell_type": "code",
   "execution_count": 38,
   "id": "24e3a2dd",
   "metadata": {},
   "outputs": [],
   "source": [
    "def conlist(*args):\n",
    "    \"\"\"it concatenate of all the list of n no. of list which you parse\n",
    "    otherwise give's an exception if input is other than a list.\"\"\"\n",
    "    l = []\n",
    "    for i in args:\n",
    "        if type(i) == list:\n",
    "            l.extend(i)\n",
    "        else:\n",
    "            return 'value should not be other than a list'\n",
    "    return l"
   ]
  },
  {
   "cell_type": "code",
   "execution_count": 39,
   "id": "742ed58f",
   "metadata": {},
   "outputs": [
    {
     "data": {
      "text/plain": [
       "[1, 2, 3, 4, 5, 10, 20, 30, 40, 50, 100, 200, 300, 400, 500]"
      ]
     },
     "execution_count": 39,
     "metadata": {},
     "output_type": "execute_result"
    }
   ],
   "source": [
    "conlist([1,2,3,4,5],[10,20,30,40,50],[100,200,300,400,500])"
   ]
  },
  {
   "cell_type": "code",
   "execution_count": 40,
   "id": "8b652228",
   "metadata": {},
   "outputs": [
    {
     "data": {
      "text/plain": [
       "'value should not be other than a list'"
      ]
     },
     "execution_count": 40,
     "metadata": {},
     "output_type": "execute_result"
    }
   ],
   "source": [
    "conlist([1,2,4],[12,6,8,9],['rohit','bansod','ineuron'],(1,2,3,4))"
   ]
  },
  {
   "cell_type": "markdown",
   "id": "fb1aa7ad",
   "metadata": {},
   "source": [
    "# 6 . write a function which will be able to take a list as an input return an index of each element like a inbuilt index function but even if we have repetative element it should return index "
   ]
  },
  {
   "cell_type": "code",
   "execution_count": 41,
   "id": "85923064",
   "metadata": {},
   "outputs": [],
   "source": [
    "def indrt(a):\n",
    "    \"\"\" return index of all the element if it's repetative\"\"\"\n",
    "    if type(a) == list:\n",
    "        for i in range(len(a)):\n",
    "            print(i,\"is index of \", a[i])"
   ]
  },
  {
   "cell_type": "code",
   "execution_count": 42,
   "id": "8131dbb2",
   "metadata": {},
   "outputs": [
    {
     "name": "stdout",
     "output_type": "stream",
     "text": [
      "0 is index of  1\n",
      "1 is index of  2\n",
      "2 is index of  3\n",
      "3 is index of  1\n",
      "4 is index of  1\n",
      "5 is index of  2\n",
      "6 is index of  3\n",
      "7 is index of  rohit\n",
      "8 is index of  ineuron\n"
     ]
    }
   ],
   "source": [
    "indrt([1,2,3,1,1,2,3,'rohit','ineuron'])"
   ]
  },
  {
   "cell_type": "markdown",
   "id": "2e41bc13",
   "metadata": {},
   "source": [
    "# 7 . Write a function which will whould return list of all the file name from a directory ."
   ]
  },
  {
   "cell_type": "code",
   "execution_count": 43,
   "id": "bd70b63c",
   "metadata": {},
   "outputs": [],
   "source": [
    "import os\n",
    "def lstfile():\n",
    "    \"\"\"it gives you a list of the .pdf or .txt available in directory.\"\"\"    \n",
    "    path = 'G:\\Rohit\\Rohit\\Document'\n",
    "    l = []\n",
    "    for (root,dirs,file) in os.walk(path):\n",
    "        for f in file:\n",
    "            if '.pdf' or '.txt' in f:\n",
    "                l.append(f)\n",
    "    return l"
   ]
  },
  {
   "cell_type": "code",
   "execution_count": 44,
   "id": "d085c84c",
   "metadata": {},
   "outputs": [
    {
     "data": {
      "text/plain": [
       "['10th board certificate.pdf',\n",
       " '1st semester.pdf',\n",
       " '2nd semester.pdf',\n",
       " '3rd semester.pdf',\n",
       " '4th semester.pdf',\n",
       " '5th semsester.pdf',\n",
       " '6th semester.pdf',\n",
       " 'Diploma certificate.pdf',\n",
       " 'Adhar card.pdf',\n",
       " 'Cast certificate.pdf',\n",
       " 'Driving license.pdf',\n",
       " 'e-Nomination.pdf',\n",
       " 'EPFO NOMINEE.pdf',\n",
       " 'Maharashtra Nursing Council, Mumbai.pdf',\n",
       " 'PAN Card.pdf',\n",
       " 'UAN Card.pdf',\n",
       " 'Voter id card.pdf']"
      ]
     },
     "execution_count": 44,
     "metadata": {},
     "output_type": "execute_result"
    }
   ],
   "source": [
    "lstfile()"
   ]
  },
  {
   "cell_type": "markdown",
   "id": "3026a013",
   "metadata": {},
   "source": [
    "# 8  . write a function which will be able to show your system configuration . "
   ]
  },
  {
   "cell_type": "code",
   "execution_count": 48,
   "id": "87c129eb",
   "metadata": {},
   "outputs": [],
   "source": [
    "import platform\n",
    "\n",
    "def systemconfigure():\n",
    "    \"\"\"This will give's your system configuration.\"\"\"\n",
    "    my_system = platform.uname()\n",
    "    print(f'System: {my_system.system}')\n",
    "    print(f'Node Name: {my_system.node}')\n",
    "    print(f'Release: {my_system.release}')\n",
    "    print(f'Version: {my_system.version}')\n",
    "    print(f'Machine: {my_system.machine}')\n",
    "    print(f'Processor: {my_system.processor}')"
   ]
  },
  {
   "cell_type": "code",
   "execution_count": 49,
   "id": "6d7d924a",
   "metadata": {},
   "outputs": [
    {
     "name": "stdout",
     "output_type": "stream",
     "text": [
      "System: Windows\n",
      "Node Name: DESKTOP-0CN9U1G\n",
      "Release: 10\n",
      "Version: 10.0.19044\n",
      "Machine: AMD64\n",
      "Processor: Intel64 Family 6 Model 37 Stepping 5, GenuineIntel\n"
     ]
    }
   ],
   "source": [
    "systemconfigure()"
   ]
  },
  {
   "cell_type": "markdown",
   "id": "bac0f5e8",
   "metadata": {},
   "source": [
    "# 9 . write a function which will be able to show date and time  . "
   ]
  },
  {
   "cell_type": "code",
   "execution_count": 52,
   "id": "9ada80dd",
   "metadata": {},
   "outputs": [],
   "source": [
    "import datetime\n",
    "def datime():\n",
    "    \"\"\"This function will show you current date and time.\"\"\"\n",
    "    current = datetime.datetime.now()\n",
    "    print('Current date and time: ')\n",
    "    print(current.strftime(\"%Y-%m-%d %H:%M:%S\"))"
   ]
  },
  {
   "cell_type": "code",
   "execution_count": 58,
   "id": "41f822fe",
   "metadata": {},
   "outputs": [
    {
     "name": "stdout",
     "output_type": "stream",
     "text": [
      "Current date and time: \n",
      "2022-10-13 22:24:18\n"
     ]
    }
   ],
   "source": [
    "datime()"
   ]
  },
  {
   "cell_type": "markdown",
   "id": "12f3aacf",
   "metadata": {},
   "source": [
    "# 10 . write a function whihc will be able to read a image file and show it to you."
   ]
  },
  {
   "cell_type": "code",
   "execution_count": 10,
   "id": "5c73d116",
   "metadata": {},
   "outputs": [],
   "source": [
    "import imageio as io\n",
    "def showimg():\n",
    "    \"\"\"This will show you a image\"\"\"\n",
    "    img = io.imread('vihu.jpg')\n",
    "    io.imwrite('vihu.jpg', img)"
   ]
  },
  {
   "cell_type": "code",
   "execution_count": 13,
   "id": "ec41f47d",
   "metadata": {},
   "outputs": [],
   "source": [
    "showimg()"
   ]
  },
  {
   "cell_type": "markdown",
   "id": "6e483518",
   "metadata": {},
   "source": [
    "# 11 . write a function which can read video file and play for you . "
   ]
  },
  {
   "cell_type": "code",
   "execution_count": 14,
   "id": "922ca828",
   "metadata": {},
   "outputs": [],
   "source": [
    "import cv2\n",
    "import numpy as np"
   ]
  },
  {
   "cell_type": "code",
   "execution_count": 18,
   "id": "9b8da9e2",
   "metadata": {},
   "outputs": [],
   "source": [
    "def showvid():\n",
    "    \"\"\"This function is used to video to play a video availabel in your directory\"\"\"\n",
    "    cap = cv2.VideoCapture('vihaan.mp4')\n",
    "    if (cap.isOpened()==False):\n",
    "        print('Erroe opening video file')\n",
    "\n",
    "    while(cap.isOpened()):\n",
    "        ret,frame = cap.read()\n",
    "        if ret == True:\n",
    "            cv2.imshow('Frame',frame)\n",
    "            if cv2.waitKey(25) & 0xFF == ord('q'):\n",
    "                break\n",
    "\n",
    "        else:\n",
    "            break\n",
    "\n",
    "    cap.release()\n",
    "    cv2.destroyAllWindows()"
   ]
  },
  {
   "cell_type": "code",
   "execution_count": 19,
   "id": "5038df0d",
   "metadata": {},
   "outputs": [],
   "source": [
    "showvid()"
   ]
  },
  {
   "cell_type": "markdown",
   "id": "2ef658ec",
   "metadata": {},
   "source": [
    "# 12  . write a function whihc can move a file from one directory to another directory . "
   ]
  },
  {
   "cell_type": "code",
   "execution_count": 1,
   "id": "d90c2cf0",
   "metadata": {},
   "outputs": [],
   "source": [
    "import shutil\n",
    "import os"
   ]
  },
  {
   "cell_type": "code",
   "execution_count": 2,
   "id": "502cf6b1",
   "metadata": {},
   "outputs": [],
   "source": [
    "def movfile():\n",
    "    \"\"\"This function is used for move a file from one directory to another\"\"\"\n",
    "    source = '‪C:/'\n",
    "    destination = 'C:/Intel'\n",
    "    \n",
    "    files = os.listdir(source)\n",
    "    \n",
    "    for f in files:\n",
    "        from_path = os.path.join(source,f)\n",
    "        to_path = os.path.join(destination,f)\n",
    "        shutil.move(from_path,to_path)    "
   ]
  },
  {
   "cell_type": "code",
   "execution_count": 3,
   "id": "3e31db88",
   "metadata": {},
   "outputs": [
    {
     "ename": "OSError",
     "evalue": "[WinError 123] The filename, directory name, or volume label syntax is incorrect: '\\u202aC:/'",
     "output_type": "error",
     "traceback": [
      "\u001b[1;31m---------------------------------------------------------------------------\u001b[0m",
      "\u001b[1;31mOSError\u001b[0m                                   Traceback (most recent call last)",
      "\u001b[1;32m~\\AppData\\Local\\Temp/ipykernel_6152/2635108153.py\u001b[0m in \u001b[0;36m<module>\u001b[1;34m\u001b[0m\n\u001b[1;32m----> 1\u001b[1;33m \u001b[0mmovfile\u001b[0m\u001b[1;33m(\u001b[0m\u001b[1;33m)\u001b[0m\u001b[1;33m\u001b[0m\u001b[1;33m\u001b[0m\u001b[0m\n\u001b[0m",
      "\u001b[1;32m~\\AppData\\Local\\Temp/ipykernel_6152/1606079136.py\u001b[0m in \u001b[0;36mmovfile\u001b[1;34m()\u001b[0m\n\u001b[0;32m      4\u001b[0m     \u001b[0mdestination\u001b[0m \u001b[1;33m=\u001b[0m \u001b[1;34m'C:/Intel'\u001b[0m\u001b[1;33m\u001b[0m\u001b[1;33m\u001b[0m\u001b[0m\n\u001b[0;32m      5\u001b[0m \u001b[1;33m\u001b[0m\u001b[0m\n\u001b[1;32m----> 6\u001b[1;33m     \u001b[0mfiles\u001b[0m \u001b[1;33m=\u001b[0m \u001b[0mos\u001b[0m\u001b[1;33m.\u001b[0m\u001b[0mlistdir\u001b[0m\u001b[1;33m(\u001b[0m\u001b[0msource\u001b[0m\u001b[1;33m)\u001b[0m\u001b[1;33m\u001b[0m\u001b[1;33m\u001b[0m\u001b[0m\n\u001b[0m\u001b[0;32m      7\u001b[0m \u001b[1;33m\u001b[0m\u001b[0m\n\u001b[0;32m      8\u001b[0m     \u001b[1;32mfor\u001b[0m \u001b[0mf\u001b[0m \u001b[1;32min\u001b[0m \u001b[0mfiles\u001b[0m\u001b[1;33m:\u001b[0m\u001b[1;33m\u001b[0m\u001b[1;33m\u001b[0m\u001b[0m\n",
      "\u001b[1;31mOSError\u001b[0m: [WinError 123] The filename, directory name, or volume label syntax is incorrect: '\\u202aC:/'"
     ]
    }
   ],
   "source": [
    "movfile()"
   ]
  },
  {
   "cell_type": "markdown",
   "id": "430a4d28",
   "metadata": {},
   "source": [
    "# 13 . write a function which will be able to shutdonw your system . "
   ]
  },
  {
   "cell_type": "code",
   "execution_count": 2,
   "id": "da9708e9",
   "metadata": {},
   "outputs": [],
   "source": [
    "def shutsystem():\n",
    "    \"\"\"This function is used to shoutdown your system\"\"\"\n",
    "    shutdown = input('Want to shutdown your system? (yes/no): ')\n",
    "    \n",
    "    if shutdown == 'no':\n",
    "        exit()\n",
    "    else:\n",
    "        os.system('shutdown /s /t 1')"
   ]
  },
  {
   "cell_type": "code",
   "execution_count": null,
   "id": "11e22ecb",
   "metadata": {},
   "outputs": [],
   "source": [
    "shutsystem()"
   ]
  },
  {
   "cell_type": "markdown",
   "id": "44d1b6aa",
   "metadata": {},
   "source": [
    "# 14 . write a function whihc will be able to access your mail. "
   ]
  },
  {
   "cell_type": "code",
   "execution_count": null,
   "id": "8488396e",
   "metadata": {},
   "outputs": [],
   "source": []
  },
  {
   "cell_type": "markdown",
   "id": "73359fa1",
   "metadata": {},
   "source": [
    "# 15 . write a func bywhcih i can send a mail to anyone."
   ]
  },
  {
   "cell_type": "code",
   "execution_count": 16,
   "id": "69c446b0",
   "metadata": {},
   "outputs": [],
   "source": [
    "import smtplib\n",
    "def sendmail():\n",
    "    \"\"\"This function is used to send a mail.\"\"\"\n",
    "    s = smtplib.SMTP('smtp.gmail.com',587)\n",
    "    s.starttls()\n",
    "    s.login('iafmigrohit4@gmail.com','password')\n",
    "    message = 'Hi, this is my code to check to the message send through the python.'\n",
    "    s.sendmail('iafmigrohit4@gmail.com','rupawasekar981@gmail.com')\n",
    "    s.quit()"
   ]
  },
  {
   "cell_type": "code",
   "execution_count": null,
   "id": "03598c03",
   "metadata": {},
   "outputs": [],
   "source": [
    "sendmail()"
   ]
  },
  {
   "cell_type": "markdown",
   "id": "13666164",
   "metadata": {},
   "source": [
    "# 16. write a func to read a complete PDf file."
   ]
  },
  {
   "cell_type": "code",
   "execution_count": 1,
   "id": "07f52a5b",
   "metadata": {},
   "outputs": [
    {
     "name": "stdout",
     "output_type": "stream",
     "text": [
      "Requirement already satisfied: PyPDF2 in c:\\users\\admin\\anaconda3\\lib\\site-packages (2.11.1)\n",
      "Requirement already satisfied: typing-extensions>=3.10.0.0 in c:\\users\\admin\\anaconda3\\lib\\site-packages (from PyPDF2) (3.10.0.2)\n",
      "Note: you may need to restart the kernel to use updated packages.\n"
     ]
    }
   ],
   "source": [
    "pip install PyPDF2"
   ]
  },
  {
   "cell_type": "code",
   "execution_count": 5,
   "id": "6a260c77",
   "metadata": {},
   "outputs": [],
   "source": [
    "import PyPDF2\n",
    "def readpdf():\n",
    "    \"\"\"This function is used to read the complete file.\"\"\"\n",
    "    file = open('Aug-2022.pdf','rb')\n",
    "    filereader = PyPDF2.PdfFileReader(file)\n",
    "    print(filereader.numPages)"
   ]
  },
  {
   "cell_type": "code",
   "execution_count": 6,
   "id": "30744a87",
   "metadata": {},
   "outputs": [
    {
     "name": "stdout",
     "output_type": "stream",
     "text": [
      "1\n"
     ]
    }
   ],
   "source": [
    "readpdf()"
   ]
  },
  {
   "cell_type": "markdown",
   "id": "2d6eed6f",
   "metadata": {},
   "source": [
    "# 17. write a function to read a word file."
   ]
  },
  {
   "cell_type": "code",
   "execution_count": 16,
   "id": "366f8523",
   "metadata": {},
   "outputs": [],
   "source": [
    "def readword():\n",
    "    \"\"\"This function is used to read word file.\"\"\"\n",
    "    with open('Rohit.docx','r') as file:\n",
    "        for line in file:\n",
    "            for word in line.split():\n",
    "                print(word)"
   ]
  },
  {
   "cell_type": "code",
   "execution_count": 17,
   "id": "d0dde5d0",
   "metadata": {},
   "outputs": [
    {
     "ename": "UnicodeDecodeError",
     "evalue": "'charmap' codec can't decode byte 0x90 in position 660: character maps to <undefined>",
     "output_type": "error",
     "traceback": [
      "\u001b[1;31m---------------------------------------------------------------------------\u001b[0m",
      "\u001b[1;31mUnicodeDecodeError\u001b[0m                        Traceback (most recent call last)",
      "\u001b[1;32m~\\AppData\\Local\\Temp/ipykernel_8104/2421839049.py\u001b[0m in \u001b[0;36m<module>\u001b[1;34m\u001b[0m\n\u001b[1;32m----> 1\u001b[1;33m \u001b[0mreadword\u001b[0m\u001b[1;33m(\u001b[0m\u001b[1;33m)\u001b[0m\u001b[1;33m\u001b[0m\u001b[1;33m\u001b[0m\u001b[0m\n\u001b[0m",
      "\u001b[1;32m~\\AppData\\Local\\Temp/ipykernel_8104/2020406890.py\u001b[0m in \u001b[0;36mreadword\u001b[1;34m()\u001b[0m\n\u001b[0;32m      2\u001b[0m     \u001b[1;34m\"\"\"This function is used to read word file.\"\"\"\u001b[0m\u001b[1;33m\u001b[0m\u001b[1;33m\u001b[0m\u001b[0m\n\u001b[0;32m      3\u001b[0m     \u001b[1;32mwith\u001b[0m \u001b[0mopen\u001b[0m\u001b[1;33m(\u001b[0m\u001b[1;34m'Rohit.docx'\u001b[0m\u001b[1;33m,\u001b[0m\u001b[1;34m'r'\u001b[0m\u001b[1;33m)\u001b[0m \u001b[1;32mas\u001b[0m \u001b[0mfile\u001b[0m\u001b[1;33m:\u001b[0m\u001b[1;33m\u001b[0m\u001b[1;33m\u001b[0m\u001b[0m\n\u001b[1;32m----> 4\u001b[1;33m         \u001b[1;32mfor\u001b[0m \u001b[0mline\u001b[0m \u001b[1;32min\u001b[0m \u001b[0mfile\u001b[0m\u001b[1;33m:\u001b[0m\u001b[1;33m\u001b[0m\u001b[1;33m\u001b[0m\u001b[0m\n\u001b[0m\u001b[0;32m      5\u001b[0m             \u001b[1;32mfor\u001b[0m \u001b[0mword\u001b[0m \u001b[1;32min\u001b[0m \u001b[0mline\u001b[0m\u001b[1;33m.\u001b[0m\u001b[0msplit\u001b[0m\u001b[1;33m(\u001b[0m\u001b[1;33m)\u001b[0m\u001b[1;33m:\u001b[0m\u001b[1;33m\u001b[0m\u001b[1;33m\u001b[0m\u001b[0m\n\u001b[0;32m      6\u001b[0m                 \u001b[0mprint\u001b[0m\u001b[1;33m(\u001b[0m\u001b[0mword\u001b[0m\u001b[1;33m)\u001b[0m\u001b[1;33m\u001b[0m\u001b[1;33m\u001b[0m\u001b[0m\n",
      "\u001b[1;32m~\\anaconda3\\lib\\encodings\\cp1252.py\u001b[0m in \u001b[0;36mdecode\u001b[1;34m(self, input, final)\u001b[0m\n\u001b[0;32m     21\u001b[0m \u001b[1;32mclass\u001b[0m \u001b[0mIncrementalDecoder\u001b[0m\u001b[1;33m(\u001b[0m\u001b[0mcodecs\u001b[0m\u001b[1;33m.\u001b[0m\u001b[0mIncrementalDecoder\u001b[0m\u001b[1;33m)\u001b[0m\u001b[1;33m:\u001b[0m\u001b[1;33m\u001b[0m\u001b[1;33m\u001b[0m\u001b[0m\n\u001b[0;32m     22\u001b[0m     \u001b[1;32mdef\u001b[0m \u001b[0mdecode\u001b[0m\u001b[1;33m(\u001b[0m\u001b[0mself\u001b[0m\u001b[1;33m,\u001b[0m \u001b[0minput\u001b[0m\u001b[1;33m,\u001b[0m \u001b[0mfinal\u001b[0m\u001b[1;33m=\u001b[0m\u001b[1;32mFalse\u001b[0m\u001b[1;33m)\u001b[0m\u001b[1;33m:\u001b[0m\u001b[1;33m\u001b[0m\u001b[1;33m\u001b[0m\u001b[0m\n\u001b[1;32m---> 23\u001b[1;33m         \u001b[1;32mreturn\u001b[0m \u001b[0mcodecs\u001b[0m\u001b[1;33m.\u001b[0m\u001b[0mcharmap_decode\u001b[0m\u001b[1;33m(\u001b[0m\u001b[0minput\u001b[0m\u001b[1;33m,\u001b[0m\u001b[0mself\u001b[0m\u001b[1;33m.\u001b[0m\u001b[0merrors\u001b[0m\u001b[1;33m,\u001b[0m\u001b[0mdecoding_table\u001b[0m\u001b[1;33m)\u001b[0m\u001b[1;33m[\u001b[0m\u001b[1;36m0\u001b[0m\u001b[1;33m]\u001b[0m\u001b[1;33m\u001b[0m\u001b[1;33m\u001b[0m\u001b[0m\n\u001b[0m\u001b[0;32m     24\u001b[0m \u001b[1;33m\u001b[0m\u001b[0m\n\u001b[0;32m     25\u001b[0m \u001b[1;32mclass\u001b[0m \u001b[0mStreamWriter\u001b[0m\u001b[1;33m(\u001b[0m\u001b[0mCodec\u001b[0m\u001b[1;33m,\u001b[0m\u001b[0mcodecs\u001b[0m\u001b[1;33m.\u001b[0m\u001b[0mStreamWriter\u001b[0m\u001b[1;33m)\u001b[0m\u001b[1;33m:\u001b[0m\u001b[1;33m\u001b[0m\u001b[1;33m\u001b[0m\u001b[0m\n",
      "\u001b[1;31mUnicodeDecodeError\u001b[0m: 'charmap' codec can't decode byte 0x90 in position 660: character maps to <undefined>"
     ]
    }
   ],
   "source": [
    "readword()"
   ]
  },
  {
   "cell_type": "markdown",
   "id": "a2f95d90",
   "metadata": {},
   "source": [
    "# 18 . write a function which can help you to filter only word file from a directory. "
   ]
  },
  {
   "cell_type": "code",
   "execution_count": null,
   "id": "4cff344b",
   "metadata": {},
   "outputs": [],
   "source": []
  },
  {
   "cell_type": "markdown",
   "id": "69b9effc",
   "metadata": {},
   "source": [
    "# 19 . write a function by which you can print an ip address of your system."
   ]
  },
  {
   "cell_type": "code",
   "execution_count": 20,
   "id": "398d4104",
   "metadata": {},
   "outputs": [],
   "source": [
    "import socket\n",
    "def printip():\n",
    "    \"\"\"This function is used to print your system ip address\"\"\"\n",
    "    hostname = socket.gethostname()\n",
    "    IPAddr = socket.gethostbyname(hostname)\n",
    "    \n",
    "    print(\"Your Computer Name is: \" + hostname)\n",
    "    print(\"Your computer IP Address: \" + IPAddr)"
   ]
  },
  {
   "cell_type": "code",
   "execution_count": 21,
   "id": "7a4e2f4b",
   "metadata": {},
   "outputs": [
    {
     "name": "stdout",
     "output_type": "stream",
     "text": [
      "Your Computer Name is: DESKTOP-0CN9U1G\n",
      "Your computer IP Address: 192.168.0.100\n"
     ]
    }
   ],
   "source": [
    "printip()"
   ]
  },
  {
   "cell_type": "markdown",
   "id": "c4915bc5",
   "metadata": {},
   "source": [
    "# 20 . write a function by which you will be able to append two PDF files."
   ]
  },
  {
   "cell_type": "code",
   "execution_count": 26,
   "id": "b811cf36",
   "metadata": {},
   "outputs": [],
   "source": [
    "from PyPDF2 import PdfFileMerger\n",
    "def mergpdf():\n",
    "    \"\"\"This function is used to merge pdf file and create a new pdf file.\"\"\"\n",
    "    merger = PdfFileMerger()\n",
    "    pdf_files = ('Aug-2022.pdf','Feb-2022.pdf')\n",
    "    \n",
    "    for i in pdf_files:\n",
    "        merger.append(i)\n",
    "    \n",
    "    merger.write('new_pdf.pdf')\n",
    "    merger.close()"
   ]
  },
  {
   "cell_type": "code",
   "execution_count": 27,
   "id": "b33a8688",
   "metadata": {},
   "outputs": [],
   "source": [
    "mergpdf()"
   ]
  }
 ],
 "metadata": {
  "kernelspec": {
   "display_name": "Python 3 (ipykernel)",
   "language": "python",
   "name": "python3"
  },
  "language_info": {
   "codemirror_mode": {
    "name": "ipython",
    "version": 3
   },
   "file_extension": ".py",
   "mimetype": "text/x-python",
   "name": "python",
   "nbconvert_exporter": "python",
   "pygments_lexer": "ipython3",
   "version": "3.9.7"
  }
 },
 "nbformat": 4,
 "nbformat_minor": 5
}
