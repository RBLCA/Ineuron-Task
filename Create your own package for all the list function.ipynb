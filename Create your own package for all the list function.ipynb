{
 "cells": [
  {
   "cell_type": "code",
   "execution_count": 1,
   "id": "8d7c9ee6",
   "metadata": {},
   "outputs": [],
   "source": [
    "import logging as lg\n",
    "lg.basicConfig(filename = 'list.log', level= lg.DEBUG, format= '%(asctime)s - %(levelname)s - %(message)s' )"
   ]
  },
  {
   "cell_type": "code",
   "execution_count": 63,
   "id": "cf73b0d7",
   "metadata": {},
   "outputs": [],
   "source": [
    "class List:\n",
    "    def __init__(self, l):\n",
    "        self.list = l\n",
    "        lg.info('Constructor created')\n",
    "        \n",
    "    def appendn(self, args) -> list:\n",
    "        \"\"\"This will append object at the end of the list\"\"\"\n",
    "        lg.info('Creting appendn method to append the object')\n",
    "        \n",
    "        try:\n",
    "            if type(self.list) == list:\n",
    "                self.list = self.list + [args]\n",
    "                return self.list\n",
    "        except Exception as e:\n",
    "            lg.exception('Error occured while printing')\n",
    "            return 'You have not parse a list while creating object'\n",
    "                 \n",
    "            \n",
    "        "
   ]
  },
  {
   "cell_type": "code",
   "execution_count": 64,
   "id": "7a5f300e",
   "metadata": {},
   "outputs": [
    {
     "data": {
      "text/plain": [
       "[1, 2, 3, 4, 5, 'Rohit']"
      ]
     },
     "execution_count": 64,
     "metadata": {},
     "output_type": "execute_result"
    }
   ],
   "source": [
    "l = [1,2,3,4,5]\n",
    "t = (1,2,3,4,5)\n",
    "d = List(l)\n",
    "d1 = List(t)\n",
    "d.appendn('Rohit')"
   ]
  },
  {
   "cell_type": "code",
   "execution_count": 65,
   "id": "77b12620",
   "metadata": {},
   "outputs": [
    {
     "data": {
      "text/plain": [
       "[1, 2, 3, 4, 5]"
      ]
     },
     "execution_count": 65,
     "metadata": {},
     "output_type": "execute_result"
    }
   ],
   "source": [
    "l"
   ]
  },
  {
   "cell_type": "code",
   "execution_count": 66,
   "id": "73a03935",
   "metadata": {},
   "outputs": [
    {
     "data": {
      "text/plain": [
       "[1, 2, 3, 4, 5, 'Rohit']"
      ]
     },
     "execution_count": 66,
     "metadata": {},
     "output_type": "execute_result"
    }
   ],
   "source": [
    "d.list"
   ]
  },
  {
   "cell_type": "code",
   "execution_count": 67,
   "id": "96465241",
   "metadata": {},
   "outputs": [],
   "source": [
    "d1.appendn('Ineuron')"
   ]
  },
  {
   "cell_type": "code",
   "execution_count": 62,
   "id": "42de7a6a",
   "metadata": {},
   "outputs": [
    {
     "data": {
      "text/plain": [
       "(1, 2, 3, 4, 5)"
      ]
     },
     "execution_count": 62,
     "metadata": {},
     "output_type": "execute_result"
    }
   ],
   "source": [
    "d1.list"
   ]
  },
  {
   "cell_type": "code",
   "execution_count": 45,
   "id": "49c8d982",
   "metadata": {},
   "outputs": [
    {
     "ename": "TypeError",
     "evalue": "__init__() missing 1 required positional argument: 'l'",
     "output_type": "error",
     "traceback": [
      "\u001b[1;31m---------------------------------------------------------------------------\u001b[0m",
      "\u001b[1;31mTypeError\u001b[0m                                 Traceback (most recent call last)",
      "\u001b[1;32m~\\AppData\\Local\\Temp/ipykernel_7420/1737307501.py\u001b[0m in \u001b[0;36m<module>\u001b[1;34m\u001b[0m\n\u001b[1;32m----> 1\u001b[1;33m \u001b[0mt\u001b[0m \u001b[1;33m=\u001b[0m \u001b[0mList\u001b[0m\u001b[1;33m(\u001b[0m\u001b[1;33m)\u001b[0m\u001b[1;33m\u001b[0m\u001b[1;33m\u001b[0m\u001b[0m\n\u001b[0m",
      "\u001b[1;31mTypeError\u001b[0m: __init__() missing 1 required positional argument: 'l'"
     ]
    }
   ],
   "source": [
    "t = List()"
   ]
  },
  {
   "cell_type": "code",
   "execution_count": null,
   "id": "3748e7ed",
   "metadata": {},
   "outputs": [],
   "source": []
  }
 ],
 "metadata": {
  "kernelspec": {
   "display_name": "Python 3 (ipykernel)",
   "language": "python",
   "name": "python3"
  },
  "language_info": {
   "codemirror_mode": {
    "name": "ipython",
    "version": 3
   },
   "file_extension": ".py",
   "mimetype": "text/x-python",
   "name": "python",
   "nbconvert_exporter": "python",
   "pygments_lexer": "ipython3",
   "version": "3.9.7"
  }
 },
 "nbformat": 4,
 "nbformat_minor": 5
}
