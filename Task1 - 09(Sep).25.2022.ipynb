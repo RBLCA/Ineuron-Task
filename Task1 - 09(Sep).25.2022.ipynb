{
 "cells": [
  {
   "cell_type": "markdown",
   "id": "0e0b9f9d",
   "metadata": {},
   "source": [
    "# Q1. Find out all the types of error that we have encountered in out lecture and why? also include the examples."
   ]
  },
  {
   "cell_type": "markdown",
   "id": "7d991968",
   "metadata": {},
   "source": [
    "Ans:-"
   ]
  },
  {
   "cell_type": "markdown",
   "id": "a1eb0c78",
   "metadata": {},
   "source": [
    "# 1. Syntax error:\n",
    "\n",
    "    If their is any syntactical mistake like given below. we'll get SyntaxErro."
   ]
  },
  {
   "cell_type": "code",
   "execution_count": 1,
   "id": "b3878884",
   "metadata": {},
   "outputs": [
    {
     "ename": "SyntaxError",
     "evalue": "invalid syntax (Temp/ipykernel_11124/1695479691.py, line 1)",
     "output_type": "error",
     "traceback": [
      "\u001b[1;36m  File \u001b[1;32m\"C:\\Users\\Admin\\AppData\\Local\\Temp/ipykernel_11124/1695479691.py\"\u001b[1;36m, line \u001b[1;32m1\u001b[0m\n\u001b[1;33m    1a = 12\u001b[0m\n\u001b[1;37m     ^\u001b[0m\n\u001b[1;31mSyntaxError\u001b[0m\u001b[1;31m:\u001b[0m invalid syntax\n"
     ]
    }
   ],
   "source": [
    "1a = 12"
   ]
  },
  {
   "cell_type": "code",
   "execution_count": 2,
   "id": "0b9ef6b1",
   "metadata": {},
   "outputs": [
    {
     "ename": "SyntaxError",
     "evalue": "invalid syntax (Temp/ipykernel_11124/781474680.py, line 1)",
     "output_type": "error",
     "traceback": [
      "\u001b[1;36m  File \u001b[1;32m\"C:\\Users\\Admin\\AppData\\Local\\Temp/ipykernel_11124/781474680.py\"\u001b[1;36m, line \u001b[1;32m1\u001b[0m\n\u001b[1;33m    A = 'It's going to be fun\u001b[0m\n\u001b[1;37m            ^\u001b[0m\n\u001b[1;31mSyntaxError\u001b[0m\u001b[1;31m:\u001b[0m invalid syntax\n"
     ]
    }
   ],
   "source": [
    "A = 'It's going to be fun "
   ]
  },
  {
   "cell_type": "markdown",
   "id": "f2026d79",
   "metadata": {},
   "source": [
    "# 2. Type Error:\n",
    "    \n",
    "    This type of error we get because concatenation will be done between same data type."
   ]
  },
  {
   "cell_type": "code",
   "execution_count": 3,
   "id": "ee81d48f",
   "metadata": {},
   "outputs": [],
   "source": [
    "a = 5"
   ]
  },
  {
   "cell_type": "code",
   "execution_count": 4,
   "id": "8dfcf646",
   "metadata": {},
   "outputs": [],
   "source": [
    "b = 'rohit'"
   ]
  },
  {
   "cell_type": "code",
   "execution_count": 5,
   "id": "547cd1f8",
   "metadata": {},
   "outputs": [
    {
     "ename": "TypeError",
     "evalue": "unsupported operand type(s) for +: 'int' and 'str'",
     "output_type": "error",
     "traceback": [
      "\u001b[1;31m---------------------------------------------------------------------------\u001b[0m",
      "\u001b[1;31mTypeError\u001b[0m                                 Traceback (most recent call last)",
      "\u001b[1;32m~\\AppData\\Local\\Temp/ipykernel_11124/1216668022.py\u001b[0m in \u001b[0;36m<module>\u001b[1;34m\u001b[0m\n\u001b[1;32m----> 1\u001b[1;33m \u001b[0ma\u001b[0m \u001b[1;33m+\u001b[0m \u001b[0mb\u001b[0m\u001b[1;33m\u001b[0m\u001b[1;33m\u001b[0m\u001b[0m\n\u001b[0m",
      "\u001b[1;31mTypeError\u001b[0m: unsupported operand type(s) for +: 'int' and 'str'"
     ]
    }
   ],
   "source": [
    "a + b"
   ]
  },
  {
   "cell_type": "markdown",
   "id": "3ca91f37",
   "metadata": {},
   "source": [
    "# 3. Value Error:\n",
    "    \n",
    "        This type of error we get because their is some restriction of type conversion. "
   ]
  },
  {
   "cell_type": "code",
   "execution_count": 6,
   "id": "9f4f66df",
   "metadata": {},
   "outputs": [
    {
     "ename": "ValueError",
     "evalue": "invalid literal for int() with base 10: 'rohit'",
     "output_type": "error",
     "traceback": [
      "\u001b[1;31m---------------------------------------------------------------------------\u001b[0m",
      "\u001b[1;31mValueError\u001b[0m                                Traceback (most recent call last)",
      "\u001b[1;32m~\\AppData\\Local\\Temp/ipykernel_11124/2370696185.py\u001b[0m in \u001b[0;36m<module>\u001b[1;34m\u001b[0m\n\u001b[1;32m----> 1\u001b[1;33m \u001b[0mint\u001b[0m\u001b[1;33m(\u001b[0m\u001b[1;34m'rohit'\u001b[0m\u001b[1;33m)\u001b[0m\u001b[1;33m\u001b[0m\u001b[1;33m\u001b[0m\u001b[0m\n\u001b[0m",
      "\u001b[1;31mValueError\u001b[0m: invalid literal for int() with base 10: 'rohit'"
     ]
    }
   ],
   "source": [
    "int('rohit')"
   ]
  },
  {
   "cell_type": "markdown",
   "id": "293c98b4",
   "metadata": {},
   "source": [
    "# 4. Zero Division Error:\n",
    "    \n",
    "    In this type of error we can divide any value with zero. by default it become Infinity. "
   ]
  },
  {
   "cell_type": "code",
   "execution_count": 7,
   "id": "e46274b6",
   "metadata": {},
   "outputs": [
    {
     "ename": "ZeroDivisionError",
     "evalue": "division by zero",
     "output_type": "error",
     "traceback": [
      "\u001b[1;31m---------------------------------------------------------------------------\u001b[0m",
      "\u001b[1;31mZeroDivisionError\u001b[0m                         Traceback (most recent call last)",
      "\u001b[1;32m~\\AppData\\Local\\Temp/ipykernel_11124/2590173015.py\u001b[0m in \u001b[0;36m<module>\u001b[1;34m\u001b[0m\n\u001b[1;32m----> 1\u001b[1;33m \u001b[1;36m6\u001b[0m\u001b[1;33m/\u001b[0m\u001b[1;36m0\u001b[0m\u001b[1;33m\u001b[0m\u001b[1;33m\u001b[0m\u001b[0m\n\u001b[0m",
      "\u001b[1;31mZeroDivisionError\u001b[0m: division by zero"
     ]
    }
   ],
   "source": [
    "6/0"
   ]
  },
  {
   "cell_type": "markdown",
   "id": "2b11368e",
   "metadata": {},
   "source": [
    "# 5 . Name Error:\n",
    "\n",
    "    We get this type of error when the variable is not available or defined."
   ]
  },
  {
   "cell_type": "code",
   "execution_count": 8,
   "id": "43992335",
   "metadata": {},
   "outputs": [],
   "source": [
    "myname = 'rohit'"
   ]
  },
  {
   "cell_type": "code",
   "execution_count": 9,
   "id": "f425e37b",
   "metadata": {},
   "outputs": [
    {
     "ename": "NameError",
     "evalue": "name 'Myname' is not defined",
     "output_type": "error",
     "traceback": [
      "\u001b[1;31m---------------------------------------------------------------------------\u001b[0m",
      "\u001b[1;31mNameError\u001b[0m                                 Traceback (most recent call last)",
      "\u001b[1;32m~\\AppData\\Local\\Temp/ipykernel_11124/2497241356.py\u001b[0m in \u001b[0;36m<module>\u001b[1;34m\u001b[0m\n\u001b[1;32m----> 1\u001b[1;33m \u001b[0mprint\u001b[0m\u001b[1;33m(\u001b[0m\u001b[0mMyname\u001b[0m\u001b[1;33m)\u001b[0m\u001b[1;33m\u001b[0m\u001b[1;33m\u001b[0m\u001b[0m\n\u001b[0m",
      "\u001b[1;31mNameError\u001b[0m: name 'Myname' is not defined"
     ]
    }
   ],
   "source": [
    "print(Myname)"
   ]
  },
  {
   "cell_type": "markdown",
   "id": "16ad4aad",
   "metadata": {},
   "source": [
    "# Q2. Take input A and B and print their sum, mul, div, squre of the nos."
   ]
  },
  {
   "cell_type": "code",
   "execution_count": 10,
   "id": "4edc7813",
   "metadata": {},
   "outputs": [
    {
     "name": "stdout",
     "output_type": "stream",
     "text": [
      "Enter first no: 10\n",
      "Enter second no: 20\n",
      "sum of A and B: 30\n",
      "mul of A and B: 200\n",
      "div of A and B: 0.5\n",
      "square of A and B: 100,400\n"
     ]
    }
   ],
   "source": [
    "A = int(input('Enter first no: '))\n",
    "B = int(input('Enter second no: '))\n",
    "print(f'sum of A and B: {A+B}')\n",
    "print(f'mul of A and B: {A*B}')\n",
    "print(f'div of A and B: {A/B}')\n",
    "print(f'square of A and B: {A*A},{B*B}')"
   ]
  },
  {
   "cell_type": "markdown",
   "id": "7de8f944",
   "metadata": {},
   "source": [
    "# Q3. How many reserve keywords are there in python and why we should not use them as a variable name."
   ]
  },
  {
   "cell_type": "markdown",
   "id": "5ff7c527",
   "metadata": {},
   "source": [
    "Ans:- \n",
    "        Python is a case sensitive language, and reserved keyword are used to define the syntax and structure of python  language.\n",
    "    Reserved keyword are as follows:\n",
    "    \n",
    "    and       del       from      not       while    \n",
    "\n",
    "    as        elif      global    or        with     \n",
    "\n",
    "    assert    else      if        pass      yield    \n",
    "\n",
    "    break     except    import    print              \n",
    "\n",
    "    class     exec      in        raise              \n",
    "\n",
    "    continue  finally   is        return             \n",
    "\n",
    "    def       for       lambda    try"
   ]
  },
  {
   "cell_type": "markdown",
   "id": "132d3842",
   "metadata": {},
   "source": [
    "# Q4. Create email ids with the user inputs in the following format\n",
    "    lastname.firstname@gmail.com"
   ]
  },
  {
   "cell_type": "code",
   "execution_count": 11,
   "id": "a55c9304",
   "metadata": {},
   "outputs": [
    {
     "name": "stdout",
     "output_type": "stream",
     "text": [
      "rohit\n",
      "bansod\n",
      "bansod.rohit@gmail.com\n"
     ]
    }
   ],
   "source": [
    "Name = input()\n",
    "surname = input()\n",
    "email  = print(f'{surname}.{Name}@gmail.com')"
   ]
  },
  {
   "cell_type": "markdown",
   "id": "2bb54545",
   "metadata": {},
   "source": [
    "# Q5. Try to print the following lines-\n",
    "    - Hi, I'm sunny.\n",
    "    - My address is 22\\3\n",
    "    - I earn 20$ daily."
   ]
  },
  {
   "cell_type": "code",
   "execution_count": 12,
   "id": "7d72f5b3",
   "metadata": {},
   "outputs": [
    {
     "name": "stdout",
     "output_type": "stream",
     "text": [
      "Hi, I'm sunny.\n",
      "My address is 22\\3\n",
      "I earn 20$ daily.\n"
     ]
    }
   ],
   "source": [
    "print(\"Hi, I'm sunny.\")\n",
    "print(f\"My address is 22\\\\3\")\n",
    "print(\"I earn 20$ daily.\")"
   ]
  },
  {
   "cell_type": "markdown",
   "id": "b50727b3",
   "metadata": {},
   "source": [
    "# Q6. Take user input(Name, Address, date of birth, etc.) to fill a form for your college and create their email ID's and print their email IDs."
   ]
  },
  {
   "cell_type": "code",
   "execution_count": 13,
   "id": "2e7e0478",
   "metadata": {},
   "outputs": [
    {
     "name": "stdout",
     "output_type": "stream",
     "text": [
      "enter your name: Rohit\n",
      "enter your surname: Bansod\n",
      "enter your city: Wardha\n",
      "enter you DOB: 26/10/1992\n",
      "Male/Female: Male\n",
      "Bansod.Rohit@ineuron.ai\n"
     ]
    }
   ],
   "source": [
    "Name = input('enter your name: ')\n",
    "Surname = input(\"enter your surname: \")\n",
    "City = input('enter your city: ')\n",
    "DOB =  input('enter you DOB: ')\n",
    "Sex = input('Male/Female: ')\n",
    "Email = print(f'{Surname}.{Name}@ineuron.ai')"
   ]
  },
  {
   "cell_type": "markdown",
   "id": "d196c1b2",
   "metadata": {},
   "source": [
    "# Q7. Convert the following\n",
    "    a. \"22.4\" into int\n",
    "    b. \"22\" into complex no"
   ]
  },
  {
   "cell_type": "code",
   "execution_count": 14,
   "id": "ace131ca",
   "metadata": {},
   "outputs": [
    {
     "name": "stdout",
     "output_type": "stream",
     "text": [
      "22\n"
     ]
    }
   ],
   "source": [
    "a = \"22.4\"\n",
    "print(int(float(a)))"
   ]
  },
  {
   "cell_type": "code",
   "execution_count": 15,
   "id": "d9c0396f",
   "metadata": {},
   "outputs": [
    {
     "data": {
      "text/plain": [
       "(22+0j)"
      ]
     },
     "execution_count": 15,
     "metadata": {},
     "output_type": "execute_result"
    }
   ],
   "source": [
    "B = '22'\n",
    "complex(B)"
   ]
  }
 ],
 "metadata": {
  "kernelspec": {
   "display_name": "Python 3 (ipykernel)",
   "language": "python",
   "name": "python3"
  },
  "language_info": {
   "codemirror_mode": {
    "name": "ipython",
    "version": 3
   },
   "file_extension": ".py",
   "mimetype": "text/x-python",
   "name": "python",
   "nbconvert_exporter": "python",
   "pygments_lexer": "ipython3",
   "version": "3.9.7"
  }
 },
 "nbformat": 4,
 "nbformat_minor": 5
}
